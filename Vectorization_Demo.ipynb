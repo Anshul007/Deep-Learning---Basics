{
  "nbformat": 4,
  "nbformat_minor": 0,
  "metadata": {
    "colab": {
      "name": "Vectorization Demo.ipynb",
      "provenance": [],
      "authorship_tag": "ABX9TyMKxEImVP3vjI4WFzAHDDoZ",
      "include_colab_link": true
    },
    "kernelspec": {
      "name": "python3",
      "display_name": "Python 3"
    },
    "language_info": {
      "name": "python"
    }
  },
  "cells": [
    {
      "cell_type": "markdown",
      "metadata": {
        "id": "view-in-github",
        "colab_type": "text"
      },
      "source": [
        "<a href=\"https://colab.research.google.com/github/Anshul007/Deep-Learning-Basics/blob/main/Vectorization_Demo.ipynb\" target=\"_parent\"><img src=\"https://colab.research.google.com/assets/colab-badge.svg\" alt=\"Open In Colab\"/></a>"
      ]
    },
    {
      "cell_type": "code",
      "metadata": {
        "colab": {
          "base_uri": "https://localhost:8080/"
        },
        "id": "0QXT-KxoseMt",
        "outputId": "1f7c7cc4-ec0e-41d3-9b38-a7abf9cd985a"
      },
      "source": [
        "import numpy as np\n",
        "import time\n",
        "\n",
        "a = np.random.rand(10000)\n",
        "b = np.random.rand(10000)\n",
        "\n",
        "tic = time.time()\n",
        "c = np.dot(a,b)\n",
        "toc = time.time()\n",
        "\n",
        "print(c)\n",
        "print(\"The Vectorized version:\" +str(1000*(toc-tic))+\"ms\")\n",
        "\n",
        "c=0\n",
        "tic = time.time()\n",
        "for i in range(10000):\n",
        "  c += a[i]*b[i]\n",
        "toc = time.time()\n",
        "\n",
        "print(c)\n",
        "print(\"The Non-Vectorized version:\" +str(1000*(toc-tic))+\"ms\")"
      ],
      "execution_count": 2,
      "outputs": [
        {
          "output_type": "stream",
          "text": [
            "2441.388977498719\n",
            "The Vectorized version:0.1201629638671875ms\n",
            "2441.388977498727\n",
            "The Non-Vectorized version:7.311582565307617ms\n"
          ],
          "name": "stdout"
        }
      ]
    },
    {
      "cell_type": "code",
      "metadata": {
        "id": "kSva5q9at0Yt"
      },
      "source": [
        ""
      ],
      "execution_count": null,
      "outputs": []
    }
  ]
}